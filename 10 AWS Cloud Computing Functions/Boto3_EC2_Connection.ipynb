{
 "cells": [
  {
   "cell_type": "markdown",
   "metadata": {},
   "source": [
    "# Connect to AWS, Create EC2 Instance and Load Balancer \n",
    "\n",
    "## Note: \n",
    "\n"
   ]
  },
  {
   "cell_type": "markdown",
   "metadata": {},
   "source": [
    "# Import Python Libraries"
   ]
  },
  {
   "cell_type": "code",
   "execution_count": 15,
   "metadata": {},
   "outputs": [],
   "source": [
    "import os\n",
    "import boto3\n",
    "from botocore.exceptions import ClientError "
   ]
  },
  {
   "cell_type": "markdown",
   "metadata": {},
   "source": [
    "# 1 & 2) Create Security Group & Authorize Traffic"
   ]
  },
  {
   "cell_type": "code",
   "execution_count": 16,
   "metadata": {},
   "outputs": [
    {
     "name": "stdout",
     "output_type": "stream",
     "text": [
      "Group Name: 21484971-sg\n",
      "Group Description: security group for development environment\n",
      "GroupId: sg-091eb217391dc8774\n"
     ]
    }
   ],
   "source": [
    "group_name = \"21484971-sg\"\n",
    "security_group_description=\"SHH traffic only - 21484971\"\n",
    "availability_zone = \"ap-southeast-2\"\n",
    "\n",
    "## Rsource & Client Connection\n",
    "ec2 = boto3.resource('ec2', availability_zone)\n",
    "ec2_client = boto3.client(\"ec2\", region_name=availability_zone)\n",
    "\n",
    "# Try get the security group by name \n",
    "try:\n",
    "    response = ec2_client.describe_security_groups(GroupNames=[group_name])\n",
    "    for p in response['SecurityGroups']:\n",
    "        print(\"Group Name: \" + p['GroupName'])\n",
    "        print(\"Group Description: \" + p['Description'])\n",
    "        print(\"GroupId: \" + p['GroupId'])\n",
    "        security_group_id = p['GroupId']\n",
    "except ClientError as e: #Fails when the group does not exist \n",
    "    # Try to create security group with the provided id, catch error any errors\n",
    "    try:\n",
    "        # Create a security group and allow SSH inbound rule through the VPC\n",
    "        securitygroup = ec2.create_security_group(GroupName=group_name, Description=security_group_description)\n",
    "        securitygroup.authorize_ingress(CidrIp='0.0.0.0/0', IpProtocol='tcp', FromPort=22, ToPort=22)\n",
    "\n",
    "        security_group_id = securitygroup.id\n",
    "    \n",
    "    except ClientError as e:\n",
    "        print(e)\n",
    "\n",
    "    print(security_group_id)\n"
   ]
  },
  {
   "cell_type": "markdown",
   "metadata": {},
   "source": [
    "# 3) Create Key Pair if not created if not, create one"
   ]
  },
  {
   "cell_type": "code",
   "execution_count": null,
   "metadata": {},
   "outputs": [],
   "source": [
    "ec2_resources = boto3.resource('ec2')\n",
    "\n",
    "key_file_name = \"21484971-key.pem\"\n",
    "key_name = '21484971-key'\n",
    "\n",
    "path = \"./\" + key_file_name\n",
    "\n",
    "if( not os.path.isfile(path)):\n",
    "    # create a file to store the key locally\n",
    "    outfile = open(key_file_name,'w')\n",
    "\n",
    "    # call the boto ec2 function to create a key pair\n",
    "    key_pair = ec2_resources.create_key_pair(KeyName=key_name)\n",
    "\n",
    "    # capture the key and store it in a file\n",
    "    KeyPairOut = str(key_pair.key_material)\n",
    "    print(KeyPairOut)\n",
    "\n",
    "    outfile.write(KeyPairOut)\n",
    "\n",
    "    ## Run Chmod 400 from python\n",
    "    mode = os.stat(path).st_mode\n",
    "    mode |= (mode & 400) >> 2    # copy R bits to X\n",
    "    os.chmod(path, mode)\n"
   ]
  },
  {
   "cell_type": "markdown",
   "metadata": {},
   "source": [
    "# 4) Create Connection, Instance & Tag"
   ]
  },
  {
   "cell_type": "code",
   "execution_count": 20,
   "metadata": {},
   "outputs": [
    {
     "name": "stdout",
     "output_type": "stream",
     "text": [
      "i-0841693e26cbf7187\n"
     ]
    },
    {
     "data": {
      "text/plain": [
       "[ec2.Tag(resource_id='i-0841693e26cbf7187', key='Name', value='21484971')]"
      ]
     },
     "execution_count": 20,
     "metadata": {},
     "output_type": "execute_result"
    }
   ],
   "source": [
    "## Instance information\n",
    "image_id = \"ami-d38a4ab1\"\n",
    "instance_type = \"t2.micro\"\n",
    "security_group = security_group_id #manually override if not creating a group before (sg-091eb217391dc8774)\n",
    "# key_name = '21484971-key' #Can manually override if not running in steps\n",
    "\n",
    "## Rsource connection\n",
    "ec2 = boto3.resource('ec2',availability_zone)\n",
    "\n",
    "## Create instance\n",
    "instances = ec2.create_instances(\n",
    "    ImageId=image_id, \n",
    "    InstanceType = instance_type,  \n",
    "    SecurityGroupIds=[security_group],\n",
    "    KeyName=key_name,\n",
    "    MaxCount=1,\n",
    "    MinCount=1\n",
    " )\n",
    "\n",
    "## Store and return instance id\n",
    "id = instances[0].instance_id\n",
    "print(id)\n",
    "\n",
    "## Tag instance \n",
    "ec2.create_tags(Resources=[id], Tags=[{'Key':'Name', 'Value':'21484971'}])"
   ]
  },
  {
   "cell_type": "markdown",
   "metadata": {},
   "source": [
    "# 5) Get Ip Address"
   ]
  },
  {
   "cell_type": "code",
   "execution_count": 11,
   "metadata": {},
   "outputs": [
    {
     "name": "stdout",
     "output_type": "stream",
     "text": [
      "3.104.106.39\n"
     ]
    }
   ],
   "source": [
    "ec2_client = boto3.client(\"ec2\", region_name=availability_zone)\n",
    "reservations = ec2_client.describe_instances(InstanceIds=[id]).get(\"Reservations\")\n",
    "for reservation in reservations:\n",
    "    for instance in reservation['Instances']:\n",
    "        ip_address=instance.get(\"PublicIpAddress\")\n",
    "\n",
    "print(ip_address)"
   ]
  },
  {
   "cell_type": "markdown",
   "metadata": {},
   "source": [
    "# Use IP to Connect with SSH from terminal"
   ]
  },
  {
   "cell_type": "code",
   "execution_count": 11,
   "metadata": {},
   "outputs": [
    {
     "name": "stdout",
     "output_type": "stream",
     "text": [
      "./21484971-key.pem\n",
      "3.104.111.241\n"
     ]
    }
   ],
   "source": [
    "## Bash Command to run\n",
    "# ssh -i <KEY FILE NAME>.pem ubuntu@<IP ADDRESS>\n",
    "\n",
    "print(path)\n",
    "print(ip_address)\n"
   ]
  },
  {
   "cell_type": "markdown",
   "metadata": {},
   "source": [
    "# Instance Functions from Python"
   ]
  },
  {
   "cell_type": "markdown",
   "metadata": {},
   "source": [
    "## Stop instance "
   ]
  },
  {
   "cell_type": "code",
   "execution_count": 41,
   "metadata": {},
   "outputs": [
    {
     "name": "stdout",
     "output_type": "stream",
     "text": [
      "{'StoppingInstances': [{'CurrentState': {'Code': 64, 'Name': 'stopping'}, 'InstanceId': 'i-06e77d0ea999001c2', 'PreviousState': {'Code': 16, 'Name': 'running'}}], 'ResponseMetadata': {'RequestId': 'c14aea5b-4481-46c8-9aad-eae09c37652c', 'HTTPStatusCode': 200, 'HTTPHeaders': {'x-amzn-requestid': 'c14aea5b-4481-46c8-9aad-eae09c37652c', 'cache-control': 'no-cache, no-store', 'strict-transport-security': 'max-age=31536000; includeSubDomains', 'content-type': 'text/xml;charset=UTF-8', 'content-length': '579', 'date': 'Sat, 14 Aug 2021 03:39:39 GMT', 'server': 'AmazonEC2'}, 'RetryAttempts': 0}}\n"
     ]
    }
   ],
   "source": [
    "response = ec2_client.stop_instances(InstanceIds=[id])\n",
    "print(response)"
   ]
  },
  {
   "cell_type": "markdown",
   "metadata": {},
   "source": [
    "## Resart Instance"
   ]
  },
  {
   "cell_type": "code",
   "execution_count": 34,
   "metadata": {},
   "outputs": [
    {
     "name": "stdout",
     "output_type": "stream",
     "text": [
      "{'StartingInstances': [{'CurrentState': {'Code': 16, 'Name': 'running'}, 'InstanceId': 'i-0a918e4da7277e787', 'PreviousState': {'Code': 16, 'Name': 'running'}}], 'ResponseMetadata': {'RequestId': '60152f56-35de-4a31-831e-582667f42672', 'HTTPStatusCode': 200, 'HTTPHeaders': {'x-amzn-requestid': '60152f56-35de-4a31-831e-582667f42672', 'cache-control': 'no-cache, no-store', 'strict-transport-security': 'max-age=31536000; includeSubDomains', 'content-type': 'text/xml;charset=UTF-8', 'content-length': '580', 'date': 'Sat, 14 Aug 2021 03:35:12 GMT', 'server': 'AmazonEC2'}, 'RetryAttempts': 0}}\n"
     ]
    }
   ],
   "source": [
    "response = ec2_client.start_instances(InstanceIds=[id])\n",
    "print(response)"
   ]
  },
  {
   "cell_type": "markdown",
   "metadata": {},
   "source": [
    "## Terminate Instance"
   ]
  },
  {
   "cell_type": "code",
   "execution_count": 89,
   "metadata": {},
   "outputs": [
    {
     "name": "stdout",
     "output_type": "stream",
     "text": [
      "{'TerminatingInstances': [{'CurrentState': {'Code': 32, 'Name': 'shutting-down'}, 'InstanceId': 'i-0e4248cee073abc9d', 'PreviousState': {'Code': 16, 'Name': 'running'}}], 'ResponseMetadata': {'RequestId': 'ce44334f-dac7-4fe8-bfc5-3d08e527ab3d', 'HTTPStatusCode': 200, 'HTTPHeaders': {'x-amzn-requestid': 'ce44334f-dac7-4fe8-bfc5-3d08e527ab3d', 'cache-control': 'no-cache, no-store', 'strict-transport-security': 'max-age=31536000; includeSubDomains', 'content-type': 'text/xml;charset=UTF-8', 'transfer-encoding': 'chunked', 'vary': 'accept-encoding', 'date': 'Sat, 14 Aug 2021 09:33:56 GMT', 'server': 'AmazonEC2'}, 'RetryAttempts': 0}}\n"
     ]
    }
   ],
   "source": [
    " response = ec2_client.terminate_instances(InstanceIds=[id])\n",
    " print(response)"
   ]
  }
 ],
 "metadata": {
  "interpreter": {
   "hash": "916dbcbb3f70747c44a77c7bcd40155683ae19c65e1c03b4aa3499c5328201f1"
  },
  "kernelspec": {
   "display_name": "Python 3.8.10 64-bit",
   "name": "python3"
  },
  "language_info": {
   "codemirror_mode": {
    "name": "ipython",
    "version": 3
   },
   "file_extension": ".py",
   "mimetype": "text/x-python",
   "name": "python",
   "nbconvert_exporter": "python",
   "pygments_lexer": "ipython3",
   "version": "3.8.10"
  },
  "orig_nbformat": 4
 },
 "nbformat": 4,
 "nbformat_minor": 2
}
