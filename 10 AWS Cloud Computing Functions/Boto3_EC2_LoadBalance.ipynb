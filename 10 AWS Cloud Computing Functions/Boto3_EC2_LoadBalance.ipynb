{
 "cells": [
  {
   "cell_type": "markdown",
   "metadata": {},
   "source": [
    "# Connect to AWS, Create Security Groups, Access Key Pairs and Spin Up & Manage an EC2 Instance\n",
    "\n",
    "## Note: \n",
    "Note the prettiest, cleanest or really best code but hey... it works and you can't take that away from it.\n",
    "\n",
    "What does it do? \n",
    "- Creates a security that allows for ssh and http \n",
    "- Creates a key pair if one does not already exist \n",
    "- Creates two EC2 instances within different availibility zones within a region \n",
    "- Creates a load balancer \n",
    "- Creates a target group that points to the ec2 instances \n",
    "- Then has some useful functions for getting info, stopping, resuming and terminating instances \n",
    "\n",
    "\n",
    "\n",
    "\n",
    "## Good blogs that help:\n",
    "Obviously the Boto3 Doco \n",
    "\n",
    "https://www.stratoscale.com/knowledge/load-balancing/aws-elb/boto-3-for-elb/example-work-with-a-load-balancer-and-target-group/ \n",
    "\n",
    "http://boto.cloudhackers.com/en/latest/elb_tut.html\n"
   ]
  },
  {
   "cell_type": "markdown",
   "metadata": {},
   "source": [
    "# Import Python Libraries"
   ]
  },
  {
   "cell_type": "code",
   "execution_count": null,
   "metadata": {},
   "outputs": [],
   "source": [
    "import os\n",
    "import boto3\n",
    "from botocore.exceptions import ClientError "
   ]
  },
  {
   "cell_type": "markdown",
   "metadata": {},
   "source": [
    "# Create Security Group & Authorize Traffic\n",
    "\n",
    "Create a security group that allows ssh and http traffic "
   ]
  },
  {
   "cell_type": "code",
   "execution_count": null,
   "metadata": {},
   "outputs": [],
   "source": [
    "group_name = \"21484971-sg\"\n",
    "security_group_description=\"SHH traffic only - 21484971\"\n",
    "availability_zone = \"ap-southeast-2\"\n",
    "\n",
    "## Rsource & Client Connection\n",
    "ec2 = boto3.resource('ec2', availability_zone)\n",
    "ec2_client = boto3.client(\"ec2\", region_name=availability_zone)\n",
    "\n",
    "# Try get the security group by name \n",
    "try:\n",
    "    response = ec2_client.describe_security_groups(GroupNames=[group_name])\n",
    "    for p in response['SecurityGroups']:\n",
    "        print(\"Group Name: \" + p['GroupName'])\n",
    "        print(\"Group Description: \" + p['Description'])\n",
    "        print(\"GroupId: \" + p['GroupId'])\n",
    "        security_group_id = p['GroupId']\n",
    "except ClientError as e: #Fails when the group does not exist \n",
    "    # Try to create security group with the provided id, catch error any errors\n",
    "    try:\n",
    "        # Create a security group and allow SSH inbound rule through the VPC\n",
    "        securitygroup = ec2.create_security_group(GroupName=group_name, Description=security_group_description)\n",
    "        securitygroup.authorize_ingress(CidrIp='0.0.0.0/0', IpProtocol='tcp', FromPort=22, ToPort=22)\n",
    "        securitygroup.authorize_ingress(CidrIp='0.0.0.0/0', IpProtocol='tcp', FromPort=80, ToPort=80)\n",
    "        \n",
    "        security_group_id = securitygroup.id\n",
    "    \n",
    "    except ClientError as e:\n",
    "        print(e)\n",
    "\n",
    "    print(security_group_id)\n"
   ]
  },
  {
   "cell_type": "markdown",
   "metadata": {},
   "source": [
    "# Create Key Pair if not created if not, create one"
   ]
  },
  {
   "cell_type": "code",
   "execution_count": null,
   "metadata": {},
   "outputs": [],
   "source": [
    "ec2_resources = boto3.resource('ec2')\n",
    "\n",
    "key_file_name = \"21484971-key.pem\"\n",
    "key_name = '21484971-key'\n",
    "\n",
    "path = \"./\" + key_file_name\n",
    "\n",
    "if( not os.path.isfile(path)):\n",
    "    # create a file to store the key locally\n",
    "    outfile = open(key_file_name,'w')\n",
    "\n",
    "    # call the boto ec2 function to create a key pair\n",
    "    key_pair = ec2_resources.create_key_pair(KeyName=key_name)\n",
    "\n",
    "    # capture the key and store it in a file\n",
    "    KeyPairOut = str(key_pair.key_material)\n",
    "    print(KeyPairOut)\n",
    "\n",
    "    outfile.write(KeyPairOut)\n",
    "\n",
    "    ## Run Chmod 400 from python\n",
    "    mode = os.stat(path).st_mode\n",
    "    mode |= (mode & 400) >> 2    # copy R bits to X\n",
    "    os.chmod(path, mode)\n"
   ]
  },
  {
   "cell_type": "markdown",
   "metadata": {},
   "source": [
    "# 4) Create Connection, Instance & Tag in two different Availability\n",
    "Not the cleanest or best way to do this but hey, it works so..."
   ]
  },
  {
   "cell_type": "code",
   "execution_count": null,
   "metadata": {},
   "outputs": [],
   "source": [
    "## Instance information\n",
    "image_id = \"ami-d38a4ab1\"\n",
    "instance_type = \"t2.micro\"\n",
    "security_group = security_group_id #manually override if not creating a group before (sg-091eb217391dc8774)\n",
    "# key_name = '21484971-key' #Can manually override if not running in steps\n",
    "\n",
    "availability_zone = \"ap-southeast-2\"\n",
    "subnetid = \"subnet-89792dd1\"\n",
    "\n",
    "## Rsource connection\n",
    "ec2 = boto3.resource('ec2',availability_zone)\n",
    "\n",
    "## Create instance\n",
    "instances = ec2.create_instances(\n",
    "    ImageId=image_id, \n",
    "    InstanceType = instance_type,  \n",
    "    KeyName=key_name,\n",
    "    MaxCount=1,\n",
    "    MinCount=1,\n",
    "   NetworkInterfaces = [\n",
    "    {\n",
    "        'SubnetId': subnetid,\n",
    "        'DeviceIndex': 0,\n",
    "        'AssociatePublicIpAddress': True,\n",
    "        'Groups': [security_group]\n",
    "\n",
    "    }]\n",
    " )\n",
    "\n",
    "## Store and return instance id\n",
    "instance_1_id = instances[0].instance_id\n",
    "print(instance_1_id)\n",
    "\n",
    "\n",
    "## Tag instance \n",
    "ec2.create_tags(Resources=[instance_1_id], Tags=[{'Key':'Name', 'Value':'21484971'}])\n",
    "\n",
    "availability_zone_2 = \"ap-southeast-2\"\n",
    "subnetid_2 = \"subnet-2a20f762\"\n",
    "\n",
    "## Rsource connection\n",
    "ec2 = boto3.resource('ec2',availability_zone_2)\n",
    "\n",
    "## Create instance\n",
    "instances = ec2.create_instances(\n",
    "    ImageId=image_id, \n",
    "    InstanceType = instance_type,  \n",
    "    KeyName=key_name,\n",
    "    MaxCount=1,\n",
    "    MinCount=1,\n",
    "    NetworkInterfaces = [\n",
    "    {\n",
    "        'SubnetId': subnetid_2,\n",
    "        'DeviceIndex': 0,\n",
    "        'AssociatePublicIpAddress': True,\n",
    "        'Groups': [security_group]\n",
    "\n",
    "    }]\n",
    " )\n",
    "\n",
    "## Store and return instance id\n",
    "instance_2_id = instances[0].instance_id\n",
    "print(instance_2_id)\n",
    "\n",
    "## Tag instance \n",
    "ec2.create_tags(Resources=[instance_2_id], Tags=[{'Key':'Name', 'Value':'21484971'}])"
   ]
  },
  {
   "cell_type": "markdown",
   "metadata": {},
   "source": [
    "# Create Load Balancer "
   ]
  },
  {
   "cell_type": "code",
   "execution_count": null,
   "metadata": {},
   "outputs": [],
   "source": [
    " \n",
    " \n",
    "#Load Balancer\n",
    "elb = boto3.client('elbv2', availability_zone)\n",
    "\n",
    " # create load-balancer\n",
    "create_lb_response = elb.create_load_balancer(Name='21484971',\n",
    "                                                         Subnets=[subnetid, subnetid_2],\n",
    "                                                         SecurityGroups=[security_group],\n",
    "                                                         Scheme='internet-facing',\n",
    "                                                          Tags=[\n",
    "                                                                {\n",
    "                                                                    'Key': 'Name',\n",
    "                                                                    'Value': '21484971'\n",
    "                                                                },\n",
    "                                                            ],\n",
    "                                                         )\n",
    "print(create_lb_response)\n",
    "if response['ResponseMetadata']['HTTPStatusCode'] == 200:\n",
    "        lbId = response['LoadBalancers'][0]['LoadBalancerArn']\n",
    "        print (\"Successfully created target group %s\" % lbId)\n",
    "else:\n",
    "    print (\"Create target group failed\")"
   ]
  },
  {
   "cell_type": "markdown",
   "metadata": {},
   "source": [
    "# Create Target Group"
   ]
  },
  {
   "cell_type": "code",
   "execution_count": null,
   "metadata": {},
   "outputs": [],
   "source": [
    "\n",
    "\n",
    "response = elb.create_target_group(\n",
    "    Name='21484971-tg',\n",
    "    TargetType='instance',\n",
    "    Protocol='HTTP',\n",
    "    Port=80,\n",
    "    VpcId= \"vpc-38e71a5e\", \n",
    "    Tags=[\n",
    "        {\n",
    "            'Key': 'Name',\n",
    "            'Value': '21484971'\n",
    "        },\n",
    "    ]\n",
    ")\n",
    "if response['ResponseMetadata']['HTTPStatusCode'] == 200:\n",
    "        tgId = response['TargetGroups'][0]['TargetGroupArn']\n",
    "        print (\"Successfully created target group %s\" % tgId)\n",
    "else:\n",
    "    print (\"Create target group failed\")\n",
    "\n",
    "\n",
    "# Register targets\n",
    "\n",
    "targets_list = [dict(Id=target_id, Port=80) for target_id in [instance_1_id, instance_2_id]]\n",
    "\n",
    "reg_targets_response = elb.register_targets(TargetGroupArn=tgId, Targets=targets_list)\n",
    "# check register group returned successfully\n",
    "if reg_targets_response['ResponseMetadata']['HTTPStatusCode'] == 200:\n",
    "    print (\"Successfully registered targets\")\n",
    "else:\n",
    "    print (\"Register targets failed\")"
   ]
  },
  {
   "cell_type": "markdown",
   "metadata": {},
   "source": [
    "# Create Listener that binds the load balancer and target group "
   ]
  },
  {
   "cell_type": "code",
   "execution_count": null,
   "metadata": {},
   "outputs": [],
   "source": [
    " # create Listener\n",
    "create_listener_response = elb.create_listener(LoadBalancerArn=lbId,\n",
    "                                                          Protocol='TCP', Port=80,\n",
    "                                                          DefaultActions=[{'Type': 'forward',\n",
    "                                                                           'TargetGroupArn': tgId}])\n",
    "\n",
    "    # check create listener returned successfully\n",
    "if create_listener_response['ResponseMetadata']['HTTPStatusCode'] == 200:\n",
    "    print (\"Successfully created listener %s\" % tgId)\n",
    "else:\n",
    "    print (\"Create listener failed\")"
   ]
  },
  {
   "cell_type": "markdown",
   "metadata": {},
   "source": [
    "# 5) Get Ip Address"
   ]
  },
  {
   "cell_type": "code",
   "execution_count": null,
   "metadata": {},
   "outputs": [],
   "source": [
    "ec2_client = boto3.client(\"ec2\", region_name=availability_zone)\n",
    "reservations = ec2_client.describe_instances(InstanceIds=[instance_1_id]).get(\"Reservations\")\n",
    "for reservation in reservations:\n",
    "    for instance in reservation['Instances']:\n",
    "        ip_address=instance.get(\"PublicIpAddress\")\n",
    "\n",
    "print(ip_address)\n",
    "\n",
    "ec2_client = boto3.client(\"ec2\", region_name=availability_zone_2)\n",
    "reservations = ec2_client.describe_instances(InstanceIds=[instance_2_id]).get(\"Reservations\")\n",
    "for reservation in reservations:\n",
    "    for instance in reservation['Instances']:\n",
    "        ip_address=instance.get(\"PublicIpAddress\")\n",
    "\n",
    "print(ip_address)"
   ]
  },
  {
   "cell_type": "markdown",
   "metadata": {},
   "source": [
    "# Use IP to Connect with SSH from terminal"
   ]
  },
  {
   "cell_type": "code",
   "execution_count": null,
   "metadata": {},
   "outputs": [],
   "source": [
    "## Bash Command to run\n",
    "# ssh -i <KEY FILE NAME>.pem ubuntu@<IP ADDRESS>\n",
    "\n",
    "print(path)\n",
    "print(instance_1_id)\n",
    "print(instance_2_id)\n"
   ]
  },
  {
   "cell_type": "markdown",
   "metadata": {},
   "source": [
    "# Instance Functions from Python"
   ]
  },
  {
   "cell_type": "markdown",
   "metadata": {},
   "source": [
    "## Stop instance "
   ]
  },
  {
   "cell_type": "code",
   "execution_count": null,
   "metadata": {},
   "outputs": [],
   "source": [
    "response = ec2_client.stop_instances(InstanceIds=[instance_1_id])\n",
    "print(response)\n",
    "response = ec2_client.stop_instances(InstanceIds=[instance_2_id])\n",
    "print(response)"
   ]
  },
  {
   "cell_type": "markdown",
   "metadata": {},
   "source": [
    "## Resart Instance"
   ]
  },
  {
   "cell_type": "code",
   "execution_count": null,
   "metadata": {},
   "outputs": [],
   "source": [
    "response = ec2_client.start_instances(InstanceIds=[instance_1_id])\n",
    "print(response)\n",
    "response = ec2_client.start_instances(InstanceIds=[instance_2_id])\n",
    "print(response)"
   ]
  },
  {
   "cell_type": "markdown",
   "metadata": {},
   "source": [
    "## Terminate Instance"
   ]
  },
  {
   "cell_type": "code",
   "execution_count": null,
   "metadata": {},
   "outputs": [],
   "source": [
    "response = ec2_client.terminate_instances(InstanceIds=[instance_1_id])\n",
    "print(response)\n",
    " \n",
    "response = ec2_client.terminate_instances(InstanceIds=[instance_2_id])\n",
    "print(response)"
   ]
  }
 ],
 "metadata": {
  "interpreter": {
   "hash": "916dbcbb3f70747c44a77c7bcd40155683ae19c65e1c03b4aa3499c5328201f1"
  },
  "kernelspec": {
   "display_name": "Python 3.8.10 64-bit",
   "name": "python3"
  },
  "language_info": {
   "codemirror_mode": {
    "name": "ipython",
    "version": 3
   },
   "file_extension": ".py",
   "mimetype": "text/x-python",
   "name": "python",
   "nbconvert_exporter": "python",
   "pygments_lexer": "ipython3",
   "version": "3.8.10"
  },
  "orig_nbformat": 4
 },
 "nbformat": 4,
 "nbformat_minor": 2
}
