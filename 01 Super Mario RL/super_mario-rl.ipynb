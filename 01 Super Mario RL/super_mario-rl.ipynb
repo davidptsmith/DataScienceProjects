{
 "cells": [
  {
   "cell_type": "markdown",
   "metadata": {},
   "source": [
    "## Intro\n",
    "\n",
    "## Overview of tech \n",
    "\n",
    "### Reinforcement Learning \n",
    "\n",
    "### OpenAI Gym\n",
    "\n",
    "###\n",
    "\n"
   ]
  },
  {
   "cell_type": "markdown",
   "metadata": {},
   "source": [
    "## 1. Setup Mario"
   ]
  },
  {
   "cell_type": "code",
   "execution_count": 8,
   "metadata": {},
   "outputs": [
    {
     "name": "stdout",
     "output_type": "stream",
     "text": [
      "Collecting gym_super_mario_bros==7.3.0\n",
      "  Using cached gym_super_mario_bros-7.3.0-py2.py3-none-any.whl (198 kB)\n",
      "Collecting nes_py==8.1.8\n",
      "  Using cached nes_py-8.1.8.tar.gz (76 kB)\n",
      "  Preparing metadata (setup.py): started\n",
      "  Preparing metadata (setup.py): finished with status 'done'\n",
      "Requirement already satisfied: gym>=0.17.2 in c:\\users\\david\\appdata\\roaming\\python\\python38\\site-packages (from nes_py==8.1.8) (0.21.0)\n",
      "Requirement already satisfied: numpy>=1.18.5 in c:\\python38\\lib\\site-packages (from nes_py==8.1.8) (1.21.0)\n",
      "Requirement already satisfied: pyglet<=1.5.11,>=1.4.0 in c:\\users\\david\\appdata\\roaming\\python\\python38\\site-packages (from nes_py==8.1.8) (1.5.11)\n",
      "Requirement already satisfied: tqdm>=4.48.2 in c:\\python38\\lib\\site-packages (from nes_py==8.1.8) (4.62.3)\n",
      "Requirement already satisfied: cloudpickle>=1.2.0 in c:\\python38\\lib\\site-packages (from gym>=0.17.2->nes_py==8.1.8) (2.0.0)\n",
      "Requirement already satisfied: colorama in c:\\users\\david\\appdata\\roaming\\python\\python38\\site-packages (from tqdm>=4.48.2->nes_py==8.1.8) (0.4.4)\n",
      "Building wheels for collected packages: nes-py\n",
      "  Building wheel for nes-py (setup.py): started\n",
      "  Building wheel for nes-py (setup.py): finished with status 'done'\n",
      "  Created wheel for nes-py: filename=nes_py-8.1.8-cp38-cp38-win_amd64.whl size=48004 sha256=0e9414f5f8a19c6826945a5e1f1c410821b3229348ad6a4a2ba2f789ee3ecb2d\n",
      "  Stored in directory: c:\\users\\david\\appdata\\local\\pip\\cache\\wheels\\8d\\6e\\f0\\113c979eba40def28ee9b3c81a4adec00386106d81fb3bc2c2\n",
      "Successfully built nes-py\n",
      "Installing collected packages: nes-py, gym-super-mario-bros\n",
      "Successfully installed gym-super-mario-bros-7.3.0 nes-py-8.1.8\n"
     ]
    },
    {
     "name": "stderr",
     "output_type": "stream",
     "text": [
      "WARNING: Ignoring invalid distribution -ip (c:\\python38\\lib\\site-packages)\n",
      "WARNING: Ignoring invalid distribution - (c:\\python38\\lib\\site-packages)\n",
      "WARNING: Ignoring invalid distribution -ip (c:\\python38\\lib\\site-packages)\n",
      "WARNING: Ignoring invalid distribution - (c:\\python38\\lib\\site-packages)\n",
      "WARNING: Ignoring invalid distribution -ip (c:\\python38\\lib\\site-packages)\n",
      "WARNING: Ignoring invalid distribution - (c:\\python38\\lib\\site-packages)\n",
      "  WARNING: The script nes_py.exe is installed in 'C:\\Users\\david\\AppData\\Roaming\\Python\\Python38\\Scripts' which is not on PATH.\n",
      "  Consider adding this directory to PATH or, if you prefer to suppress this warning, use --no-warn-script-location.\n",
      "  WARNING: The script gym_super_mario_bros.exe is installed in 'C:\\Users\\david\\AppData\\Roaming\\Python\\Python38\\Scripts' which is not on PATH.\n",
      "  Consider adding this directory to PATH or, if you prefer to suppress this warning, use --no-warn-script-location.\n",
      "WARNING: Ignoring invalid distribution -ip (c:\\python38\\lib\\site-packages)\n",
      "WARNING: Ignoring invalid distribution - (c:\\python38\\lib\\site-packages)\n"
     ]
    }
   ],
   "source": [
    "## Install dependencies \n",
    "!pip install gym_super_mario_bros==7.3.0  nes_py==8.1.8 --user"
   ]
  },
  {
   "cell_type": "markdown",
   "metadata": {},
   "source": [
    "## Import packages \n",
    "\n",
    "**Notes:**  \n",
    "When working with machine learning models, it is best to try to simplify the environment as much as possible. \n",
    "Here we are simplifing the actions that our mario character can take. "
   ]
  },
  {
   "cell_type": "code",
   "execution_count": 9,
   "metadata": {},
   "outputs": [],
   "source": [
    "## Import game\n",
    "import gym_super_mario_bros\n",
    "\n",
    "## Import joybad wrapper \n",
    "from nes_py.wrappers import JoypadSpace\n",
    "\n",
    "## Import the simplified controls \n",
    "from gym_super_mario_bros.actions import SIMPLE_MOVEMENT\n"
   ]
  },
  {
   "cell_type": "markdown",
   "metadata": {},
   "source": [
    "## 2. Preprocessing Environment "
   ]
  },
  {
   "cell_type": "markdown",
   "metadata": {},
   "source": [
    "## 3. Train RL Model \n"
   ]
  },
  {
   "cell_type": "markdown",
   "metadata": {},
   "source": [
    "## 4. Test the Model"
   ]
  },
  {
   "cell_type": "code",
   "execution_count": null,
   "metadata": {},
   "outputs": [],
   "source": []
  }
 ],
 "metadata": {
  "interpreter": {
   "hash": "2db524e06e9f5f4ffedc911c917cb75e12dbc923643829bf417064a77eb14d37"
  },
  "kernelspec": {
   "display_name": "Python 3.8.5 64-bit",
   "language": "python",
   "name": "python3"
  },
  "language_info": {
   "codemirror_mode": {
    "name": "ipython",
    "version": 3
   },
   "file_extension": ".py",
   "mimetype": "text/x-python",
   "name": "python",
   "nbconvert_exporter": "python",
   "pygments_lexer": "ipython3",
   "version": "3.8.5"
  },
  "orig_nbformat": 4
 },
 "nbformat": 4,
 "nbformat_minor": 2
}
