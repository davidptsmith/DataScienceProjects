{
 "cells": [
  {
   "cell_type": "markdown",
   "metadata": {},
   "source": [
    "## Intro\n",
    "\n",
    "## Overview of tech \n",
    "\n",
    "### Reinforcement Learning \n",
    "\n",
    "### OpenAI Gym\n",
    "\n",
    "###\n",
    "\n"
   ]
  },
  {
   "cell_type": "markdown",
   "metadata": {},
   "source": [
    "## 1. Setup Mario"
   ]
  },
  {
   "cell_type": "code",
   "execution_count": 6,
   "metadata": {},
   "outputs": [
    {
     "name": "stdout",
     "output_type": "stream",
     "text": [
      "Collecting gym_super_mario_bros==7.3.0\n",
      "  Using cached gym_super_mario_bros-7.3.0-py2.py3-none-any.whl (198 kB)\n",
      "Collecting nes_py\n",
      "  Using cached nes_py-8.1.8.tar.gz (76 kB)\n",
      "  Preparing metadata (setup.py): started\n",
      "  Preparing metadata (setup.py): finished with status 'done'\n",
      "Requirement already satisfied: gym>=0.17.2 in c:\\python38\\lib\\site-packages (from nes_py) (0.21.0)\n",
      "Requirement already satisfied: numpy>=1.18.5 in c:\\python38\\lib\\site-packages (from nes_py) (1.21.0)\n",
      "Requirement already satisfied: pyglet<=1.5.11,>=1.4.0 in c:\\python38\\lib\\site-packages (from nes_py) (1.5.11)\n",
      "Requirement already satisfied: tqdm>=4.48.2 in c:\\python38\\lib\\site-packages (from nes_py) (4.62.3)\n",
      "Requirement already satisfied: cloudpickle>=1.2.0 in c:\\python38\\lib\\site-packages (from gym>=0.17.2->nes_py) (2.0.0)\n",
      "Requirement already satisfied: colorama in c:\\users\\david\\appdata\\roaming\\python\\python38\\site-packages (from tqdm>=4.48.2->nes_py) (0.4.4)\n",
      "Building wheels for collected packages: nes-py\n",
      "  Building wheel for nes-py (setup.py): started\n",
      "  Building wheel for nes-py (setup.py): finished with status 'error'\n",
      "  Running setup.py clean for nes-py\n",
      "Failed to build nes-py\n",
      "Installing collected packages: nes-py, gym-super-mario-bros\n",
      "    Running setup.py install for nes-py: started\n",
      "    Running setup.py install for nes-py: finished with status 'error'\n"
     ]
    },
    {
     "name": "stderr",
     "output_type": "stream",
     "text": [
      "WARNING: Ignoring invalid distribution -ip (c:\\python38\\lib\\site-packages)\n",
      "WARNING: Ignoring invalid distribution - (c:\\python38\\lib\\site-packages)\n",
      "WARNING: Ignoring invalid distribution -ip (c:\\python38\\lib\\site-packages)\n",
      "WARNING: Ignoring invalid distribution - (c:\\python38\\lib\\site-packages)\n",
      "  ERROR: Command errored out with exit status 1:\n",
      "   command: 'c:\\python38\\python.exe' -u -c 'import io, os, sys, setuptools, tokenize; sys.argv[0] = '\"'\"'C:\\\\Users\\\\david\\\\AppData\\\\Local\\\\Temp\\\\pip-install-pofs3pkt\\\\nes-py_82fd865ec09048d688682c0278e7536e\\\\setup.py'\"'\"'; __file__='\"'\"'C:\\\\Users\\\\david\\\\AppData\\\\Local\\\\Temp\\\\pip-install-pofs3pkt\\\\nes-py_82fd865ec09048d688682c0278e7536e\\\\setup.py'\"'\"';f = getattr(tokenize, '\"'\"'open'\"'\"', open)(__file__) if os.path.exists(__file__) else io.StringIO('\"'\"'from setuptools import setup; setup()'\"'\"');code = f.read().replace('\"'\"'\\r\\n'\"'\"', '\"'\"'\\n'\"'\"');f.close();exec(compile(code, __file__, '\"'\"'exec'\"'\"'))' bdist_wheel -d 'C:\\Users\\david\\AppData\\Local\\Temp\\pip-wheel-cu0jnz67'\n",
      "       cwd: C:\\Users\\david\\AppData\\Local\\Temp\\pip-install-pofs3pkt\\nes-py_82fd865ec09048d688682c0278e7536e\\\n",
      "  Complete output (21 lines):\n",
      "  running bdist_wheel\n",
      "  running build\n",
      "  running build_py\n",
      "  creating build\n",
      "  creating build\\lib.win-amd64-3.8\n",
      "  creating build\\lib.win-amd64-3.8\\nes_py\n",
      "  copying nes_py\\nes_env.py -> build\\lib.win-amd64-3.8\\nes_py\n",
      "  copying nes_py\\_image_viewer.py -> build\\lib.win-amd64-3.8\\nes_py\n",
      "  copying nes_py\\_rom.py -> build\\lib.win-amd64-3.8\\nes_py\n",
      "  copying nes_py\\__init__.py -> build\\lib.win-amd64-3.8\\nes_py\n",
      "  creating build\\lib.win-amd64-3.8\\nes_py\\app\n",
      "  copying nes_py\\app\\cli.py -> build\\lib.win-amd64-3.8\\nes_py\\app\n",
      "  copying nes_py\\app\\play_human.py -> build\\lib.win-amd64-3.8\\nes_py\\app\n",
      "  copying nes_py\\app\\play_random.py -> build\\lib.win-amd64-3.8\\nes_py\\app\n",
      "  copying nes_py\\app\\__init__.py -> build\\lib.win-amd64-3.8\\nes_py\\app\n",
      "  creating build\\lib.win-amd64-3.8\\nes_py\\wrappers\n",
      "  copying nes_py\\wrappers\\joypad_space.py -> build\\lib.win-amd64-3.8\\nes_py\\wrappers\n",
      "  copying nes_py\\wrappers\\__init__.py -> build\\lib.win-amd64-3.8\\nes_py\\wrappers\n",
      "  running build_ext\n",
      "  building 'nes_py.lib_nes_env' extension\n",
      "  error: Microsoft Visual C++ 14.0 is required. Get it with \"Build Tools for Visual Studio\": https://visualstudio.microsoft.com/downloads/\n",
      "  ----------------------------------------\n",
      "  ERROR: Failed building wheel for nes-py\n",
      "WARNING: Ignoring invalid distribution -ip (c:\\python38\\lib\\site-packages)\n",
      "WARNING: Ignoring invalid distribution - (c:\\python38\\lib\\site-packages)\n",
      "    ERROR: Command errored out with exit status 1:\n",
      "     command: 'c:\\python38\\python.exe' -u -c 'import io, os, sys, setuptools, tokenize; sys.argv[0] = '\"'\"'C:\\\\Users\\\\david\\\\AppData\\\\Local\\\\Temp\\\\pip-install-pofs3pkt\\\\nes-py_82fd865ec09048d688682c0278e7536e\\\\setup.py'\"'\"'; __file__='\"'\"'C:\\\\Users\\\\david\\\\AppData\\\\Local\\\\Temp\\\\pip-install-pofs3pkt\\\\nes-py_82fd865ec09048d688682c0278e7536e\\\\setup.py'\"'\"';f = getattr(tokenize, '\"'\"'open'\"'\"', open)(__file__) if os.path.exists(__file__) else io.StringIO('\"'\"'from setuptools import setup; setup()'\"'\"');code = f.read().replace('\"'\"'\\r\\n'\"'\"', '\"'\"'\\n'\"'\"');f.close();exec(compile(code, __file__, '\"'\"'exec'\"'\"'))' install --record 'C:\\Users\\david\\AppData\\Local\\Temp\\pip-record-bwu4ff_w\\install-record.txt' --single-version-externally-managed --user --prefix= --compile --install-headers 'C:\\Users\\david\\AppData\\Roaming\\Python\\Python38\\Include\\nes-py'\n",
      "         cwd: C:\\Users\\david\\AppData\\Local\\Temp\\pip-install-pofs3pkt\\nes-py_82fd865ec09048d688682c0278e7536e\\\n",
      "    Complete output (21 lines):\n",
      "    running install\n",
      "    running build\n",
      "    running build_py\n",
      "    creating build\n",
      "    creating build\\lib.win-amd64-3.8\n",
      "    creating build\\lib.win-amd64-3.8\\nes_py\n",
      "    copying nes_py\\nes_env.py -> build\\lib.win-amd64-3.8\\nes_py\n",
      "    copying nes_py\\_image_viewer.py -> build\\lib.win-amd64-3.8\\nes_py\n",
      "    copying nes_py\\_rom.py -> build\\lib.win-amd64-3.8\\nes_py\n",
      "    copying nes_py\\__init__.py -> build\\lib.win-amd64-3.8\\nes_py\n",
      "    creating build\\lib.win-amd64-3.8\\nes_py\\app\n",
      "    copying nes_py\\app\\cli.py -> build\\lib.win-amd64-3.8\\nes_py\\app\n",
      "    copying nes_py\\app\\play_human.py -> build\\lib.win-amd64-3.8\\nes_py\\app\n",
      "    copying nes_py\\app\\play_random.py -> build\\lib.win-amd64-3.8\\nes_py\\app\n",
      "    copying nes_py\\app\\__init__.py -> build\\lib.win-amd64-3.8\\nes_py\\app\n",
      "    creating build\\lib.win-amd64-3.8\\nes_py\\wrappers\n",
      "    copying nes_py\\wrappers\\joypad_space.py -> build\\lib.win-amd64-3.8\\nes_py\\wrappers\n",
      "    copying nes_py\\wrappers\\__init__.py -> build\\lib.win-amd64-3.8\\nes_py\\wrappers\n",
      "    running build_ext\n",
      "    building 'nes_py.lib_nes_env' extension\n",
      "    error: Microsoft Visual C++ 14.0 is required. Get it with \"Build Tools for Visual Studio\": https://visualstudio.microsoft.com/downloads/\n",
      "    ----------------------------------------\n",
      "ERROR: Command errored out with exit status 1: 'c:\\python38\\python.exe' -u -c 'import io, os, sys, setuptools, tokenize; sys.argv[0] = '\"'\"'C:\\\\Users\\\\david\\\\AppData\\\\Local\\\\Temp\\\\pip-install-pofs3pkt\\\\nes-py_82fd865ec09048d688682c0278e7536e\\\\setup.py'\"'\"'; __file__='\"'\"'C:\\\\Users\\\\david\\\\AppData\\\\Local\\\\Temp\\\\pip-install-pofs3pkt\\\\nes-py_82fd865ec09048d688682c0278e7536e\\\\setup.py'\"'\"';f = getattr(tokenize, '\"'\"'open'\"'\"', open)(__file__) if os.path.exists(__file__) else io.StringIO('\"'\"'from setuptools import setup; setup()'\"'\"');code = f.read().replace('\"'\"'\\r\\n'\"'\"', '\"'\"'\\n'\"'\"');f.close();exec(compile(code, __file__, '\"'\"'exec'\"'\"'))' install --record 'C:\\Users\\david\\AppData\\Local\\Temp\\pip-record-bwu4ff_w\\install-record.txt' --single-version-externally-managed --user --prefix= --compile --install-headers 'C:\\Users\\david\\AppData\\Roaming\\Python\\Python38\\Include\\nes-py' Check the logs for full command output.\n",
      "WARNING: Ignoring invalid distribution -ip (c:\\python38\\lib\\site-packages)\n",
      "WARNING: Ignoring invalid distribution - (c:\\python38\\lib\\site-packages)\n"
     ]
    }
   ],
   "source": [
    "## Install dependencies \n",
    "!pip install gym_super_mario_bros==7.3.0  nes_py --user"
   ]
  },
  {
   "cell_type": "markdown",
   "metadata": {},
   "source": [
    "## Import packages \n",
    "\n",
    "**Notes:**  \n",
    "When working with machine learning models, it is best to try to simplify the environment as much as possible. \n",
    "Here we are simplifing the actions that our mario character can take. "
   ]
  },
  {
   "cell_type": "code",
   "execution_count": 2,
   "metadata": {},
   "outputs": [
    {
     "ename": "ModuleNotFoundError",
     "evalue": "No module named 'gym_super_mario_bros'",
     "output_type": "error",
     "traceback": [
      "\u001b[1;31m---------------------------------------------------------------------------\u001b[0m",
      "\u001b[1;31mModuleNotFoundError\u001b[0m                       Traceback (most recent call last)",
      "\u001b[1;32m~\\AppData\\Local\\Temp/ipykernel_31496/4060233003.py\u001b[0m in \u001b[0;36m<module>\u001b[1;34m\u001b[0m\n\u001b[0;32m      1\u001b[0m \u001b[1;31m## Import game\u001b[0m\u001b[1;33m\u001b[0m\u001b[1;33m\u001b[0m\u001b[1;33m\u001b[0m\u001b[0m\n\u001b[1;32m----> 2\u001b[1;33m \u001b[1;32mimport\u001b[0m \u001b[0mgym_super_mario_bros\u001b[0m\u001b[1;33m\u001b[0m\u001b[1;33m\u001b[0m\u001b[0m\n\u001b[0m\u001b[0;32m      3\u001b[0m \u001b[1;33m\u001b[0m\u001b[0m\n\u001b[0;32m      4\u001b[0m \u001b[1;31m## Import joybad wrapper\u001b[0m\u001b[1;33m\u001b[0m\u001b[1;33m\u001b[0m\u001b[1;33m\u001b[0m\u001b[0m\n\u001b[0;32m      5\u001b[0m \u001b[1;32mfrom\u001b[0m \u001b[0mnes_py\u001b[0m\u001b[1;33m.\u001b[0m\u001b[0mwrappers\u001b[0m \u001b[1;32mimport\u001b[0m \u001b[0mJoypadSpace\u001b[0m\u001b[1;33m\u001b[0m\u001b[1;33m\u001b[0m\u001b[0m\n",
      "\u001b[1;31mModuleNotFoundError\u001b[0m: No module named 'gym_super_mario_bros'"
     ]
    }
   ],
   "source": [
    "## Import game\n",
    "import gym_super_mario_bros\n",
    "\n",
    "## Import joybad wrapper \n",
    "from nes_py.wrappers import JoypadSpace\n",
    "\n",
    "## Import the simplified controls \n",
    "from gym_super_mario_bros.actions import SIMPLE_MOVEMENT\n"
   ]
  },
  {
   "cell_type": "markdown",
   "metadata": {},
   "source": [
    "## 2. Preprocessing Environment "
   ]
  },
  {
   "cell_type": "markdown",
   "metadata": {},
   "source": [
    "## 3. Train RL Model \n"
   ]
  },
  {
   "cell_type": "markdown",
   "metadata": {},
   "source": [
    "## 4. Test the Model"
   ]
  },
  {
   "cell_type": "code",
   "execution_count": null,
   "metadata": {},
   "outputs": [],
   "source": []
  }
 ],
 "metadata": {
  "interpreter": {
   "hash": "2db524e06e9f5f4ffedc911c917cb75e12dbc923643829bf417064a77eb14d37"
  },
  "kernelspec": {
   "display_name": "Python 3.8.5 64-bit",
   "language": "python",
   "name": "python3"
  },
  "language_info": {
   "codemirror_mode": {
    "name": "ipython",
    "version": 3
   },
   "file_extension": ".py",
   "mimetype": "text/x-python",
   "name": "python",
   "nbconvert_exporter": "python",
   "pygments_lexer": "ipython3",
   "version": "3.8.5"
  },
  "orig_nbformat": 4
 },
 "nbformat": 4,
 "nbformat_minor": 2
}
